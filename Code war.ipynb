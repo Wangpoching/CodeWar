{
 "cells": [
  {
   "cell_type": "markdown",
   "id": "abandoned-header",
   "metadata": {},
   "source": [
    "# 1. Even or Odd  \n",
    "## 正數變負數；負數變正數"
   ]
  },
  {
   "cell_type": "markdown",
   "id": "south-vegetarian",
   "metadata": {},
   "source": [
    "### 解1. 使用%2的餘數來判斷正負"
   ]
  },
  {
   "cell_type": "code",
   "execution_count": 4,
   "id": "burning-advocate",
   "metadata": {},
   "outputs": [],
   "source": [
    "def even_or_odd(number):\n",
    "    if number%2 == 0:\n",
    "        return \"Odd\"\n",
    "    else :\n",
    "        return \"Even\"\n",
    "assert even_or_odd(7) == \"Even\""
   ]
  },
  {
   "cell_type": "markdown",
   "id": "finite-constraint",
   "metadata": {},
   "source": [
    "# 2. Number-Star ladder\n",
    "## 輸出以下形式:\n",
    "### 1\n",
    "### 1*2\n",
    "### 1**3"
   ]
  },
  {
   "cell_type": "markdown",
   "id": "silver-comparison",
   "metadata": {},
   "source": [
    "### 解1. 使用 + 合併字串"
   ]
  },
  {
   "cell_type": "code",
   "execution_count": 2,
   "id": "passive-edgar",
   "metadata": {},
   "outputs": [],
   "source": [
    "def pattern(n):\n",
    "    result = \"1\\n\"\n",
    "    for i in list(range(1,n)):\n",
    "        element = \"*\"*i\n",
    "        result += \"1\" + element + str(i+1) + \"\\n\"\n",
    "    result = result[:-1]\n",
    "    return result\n",
    "assert pattern(7) == \"1\\n1*2\\n1**3\\n1***4\\n1****5\\n1*****6\\n1******7\""
   ]
  },
  {
   "cell_type": "markdown",
   "id": "foreign-kennedy",
   "metadata": {},
   "source": [
    "### 解2. 使用join合併list的內容，使用換行符號為分隔 (網友解法)"
   ]
  },
  {
   "cell_type": "code",
   "execution_count": 18,
   "id": "hazardous-gallery",
   "metadata": {},
   "outputs": [],
   "source": [
    "def pattern(n):\n",
    "    return '\\n'.join(['1'] + ['1' + '*' * (i-1) + str(i) for i in range(2, n+1)])\n",
    "assert pattern(7) == \"1\\n1*2\\n1**3\\n1***4\\n1****5\\n1*****6\\n1******7\""
   ]
  },
  {
   "cell_type": "markdown",
   "id": "electoral-skiing",
   "metadata": {},
   "source": [
    "### 解3. 使用.format設計字串形式並且用 + 將全部串起 (網友解法)"
   ]
  },
  {
   "cell_type": "code",
   "execution_count": 5,
   "id": "bulgarian-cosmetic",
   "metadata": {},
   "outputs": [],
   "source": [
    "def pattern(n):\n",
    "    s = ''\n",
    "    for i in range(n):\n",
    "        if i == 0:\n",
    "            s += '1\\n'\n",
    "        else:\n",
    "            s += '1{}{}\\n'.format('*' * i, i + 1)\n",
    "    \n",
    "    return s.rstrip('\\n')\n",
    "assert pattern(7) == \"1\\n1*2\\n1**3\\n1***4\\n1****5\\n1*****6\\n1******7\""
   ]
  },
  {
   "cell_type": "markdown",
   "id": "saved-enhancement",
   "metadata": {},
   "source": [
    "# 3. Who likes it"
   ]
  },
  {
   "cell_type": "markdown",
   "id": "breeding-timber",
   "metadata": {},
   "source": [
    "## 範例: \n",
    "### likes([]) # must be \"no one likes this\" <br> likes([\"Peter\"]) # must be \"Peter likes this\" <br> likes([\"Jacob\", \"Alex\"]) # must be \"Jacob and Alex like this\" <br> likes([\"Max\", \"John\", \"Mark\"]) # must be \"Max, John and Mark like this\" <br> likes([\"Alex\", \"Jacob\", \"Mark\", \"Max\"]) # must be \"Alex, Jacob and 2 others like this\"\n",
    "\n",
    "\n",
    "\n"
   ]
  },
  {
   "cell_type": "markdown",
   "id": "distinct-pixel",
   "metadata": {},
   "source": [
    "### 解1. 使用if-else條件判斷加上.format語法設計樣式"
   ]
  },
  {
   "cell_type": "code",
   "execution_count": 6,
   "id": "unique-newsletter",
   "metadata": {},
   "outputs": [],
   "source": [
    "def likes(names):\n",
    "    if not names:\n",
    "        return \"no one likes this\"\n",
    "    else:\n",
    "        if len(names) <= 3:\n",
    "            if len(names)  == 1: \n",
    "                return \"{} likes this\".format(names[0])\n",
    "            elif len(names)  == 2:\n",
    "                return \"{} and {} like this\".format(names[0],names[1])\n",
    "            else:\n",
    "                return \"{}, {} and {} like this\".format(names[0],names[1],names[2])\n",
    "        else :\n",
    "            return \"{}, {} and {} others like this\".format(names[0],names[1],len(names)-2)\n",
    "assert likes([\"Alex\", \"Jacob\", \"Mark\", \"Max\"]) ==  \"Alex, Jacob and 2 others like this\""
   ]
  },
  {
   "cell_type": "markdown",
   "id": "modern-planet",
   "metadata": {},
   "source": [
    "### 解2 神人解法: 先創建一個dict，並使用min函數找出4以及人數之間的最小值，利用min從取dict裡取值 (網友解法)"
   ]
  },
  {
   "cell_type": "code",
   "execution_count": 7,
   "id": "excited-session",
   "metadata": {},
   "outputs": [],
   "source": [
    "def likes(names):\n",
    "    n = len(names)\n",
    "    return {\n",
    "        0: 'no one likes this',\n",
    "        1: '{} likes this', \n",
    "        2: '{} and {} like this', \n",
    "        3: '{}, {} and {} like this', \n",
    "        4: '{}, {} and {others} others like this'\n",
    "    }[min(4, n)].format(*names[:3], others=n-2)\n",
    "assert likes([\"Alex\", \"Jacob\", \"Mark\", \"Max\"]) ==  \"Alex, Jacob and 2 others like this\""
   ]
  },
  {
   "cell_type": "markdown",
   "id": "injured-rescue",
   "metadata": {},
   "source": [
    "# 4. String repeat"
   ]
  },
  {
   "cell_type": "markdown",
   "id": "about-determination",
   "metadata": {},
   "source": [
    "## 重複特定的字串n遍"
   ]
  },
  {
   "cell_type": "markdown",
   "id": "beneficial-texture",
   "metadata": {},
   "source": [
    "### 解1."
   ]
  },
  {
   "cell_type": "code",
   "execution_count": 28,
   "id": "formed-input",
   "metadata": {},
   "outputs": [
    {
     "data": {
      "text/plain": [
       "'{}, {} and {others} others like this'"
      ]
     },
     "execution_count": 28,
     "metadata": {},
     "output_type": "execute_result"
    }
   ],
   "source": [
    "def repeat_str(repeat, string):\n",
    "    return repeat * string"
   ]
  },
  {
   "cell_type": "markdown",
   "id": "presidential-voice",
   "metadata": {},
   "source": [
    "# 5. Tower builder"
   ]
  },
  {
   "cell_type": "markdown",
   "id": "infectious-rescue",
   "metadata": {},
   "source": [
    "## 輸出金字塔 (每一層都比上面一層多2個單位)"
   ]
  },
  {
   "cell_type": "markdown",
   "id": "continuous-difficulty",
   "metadata": {},
   "source": [
    "### 解1. 使用遞迴 每一層都比下面一層的左右各少一個單位"
   ]
  },
  {
   "cell_type": "code",
   "execution_count": 11,
   "id": "formed-mystery",
   "metadata": {},
   "outputs": [],
   "source": [
    "def tower_builder(n_floors):\n",
    "    item = [((n_floors-1)*2+1)*\"*\"]\n",
    "    n = 1\n",
    "    def replace(item,n):\n",
    "        if n >= n_floors:\n",
    "            return item\n",
    "        else:\n",
    "            new_item = [*item[0]]\n",
    "            new_item[n-1] = \" \"\n",
    "            new_item[-n] = \" \"\n",
    "            new_item = ''.join(new_item)\n",
    "            item.insert(0, new_item)\n",
    "            n += 1\n",
    "            if n >= n_floors:\n",
    "                return item\n",
    "            else:\n",
    "                answer = replace(item,n)\n",
    "                return answer\n",
    "    result = replace(item,n)\n",
    "    return result\n",
    "assert tower_builder(5) == ['    *    ', '   ***   ', '  *****  ', ' ******* ', '*********']"
   ]
  },
  {
   "cell_type": "markdown",
   "id": "organizational-spotlight",
   "metadata": {},
   "source": [
    "### 解2. 使用center函數 (網友解法)"
   ]
  },
  {
   "cell_type": "code",
   "execution_count": 13,
   "id": "killing-error",
   "metadata": {},
   "outputs": [],
   "source": [
    "####str = 'runoob'\n",
    "####str.center(20, '*')\n",
    "####'*******runoob*******'\n",
    "####str.center(20)\n",
    "####'       runoob       '    \n",
    "def tower_builder(n):\n",
    "    return [(\"*\" * (i*2-1)).center(n*2-1) for i in range(1, n+1)]\n",
    "assert tower_builder(5) == ['    *    ', '   ***   ', '  *****  ', ' ******* ', '*********']"
   ]
  },
  {
   "cell_type": "markdown",
   "id": "guided-privacy",
   "metadata": {},
   "source": [
    "### 解3. 使用for迴圈，並且拆成stars部分還有space部分組合"
   ]
  },
  {
   "cell_type": "code",
   "execution_count": 14,
   "id": "decimal-constant",
   "metadata": {},
   "outputs": [],
   "source": [
    "def tower_builder(n_floors):\n",
    "    if n_floors == 0:\n",
    "        return []\n",
    "        \n",
    "    count = 1\n",
    "    result = []\n",
    "\n",
    "    for i in range(1, n_floors + 1):\n",
    "        stars = '*' * (2 * i - 1)\n",
    "        space = ' ' * (n_floors - i)\n",
    "        result.append(space + stars + space)\n",
    "    \n",
    "    return result\n",
    "assert tower_builder(5) == ['    *    ', '   ***   ', '  *****  ', ' ******* ', '*********']"
   ]
  },
  {
   "cell_type": "markdown",
   "id": "smoking-style",
   "metadata": {},
   "source": [
    "# 6. Reversed Strings"
   ]
  },
  {
   "cell_type": "markdown",
   "id": "furnished-poultry",
   "metadata": {},
   "source": [
    "## 將字串倒裝"
   ]
  },
  {
   "cell_type": "markdown",
   "id": "complimentary-channel",
   "metadata": {},
   "source": [
    "### 解1. 先把字串拆開放進list，再到著組合回去"
   ]
  },
  {
   "cell_type": "code",
   "execution_count": 15,
   "id": "individual-measurement",
   "metadata": {},
   "outputs": [],
   "source": [
    "def solution(string):\n",
    "    result = ''.join([*string][::-1])\n",
    "    return result\n",
    "assert solution('ABCDE') == 'EDCBA'"
   ]
  },
  {
   "cell_type": "markdown",
   "id": "hired-verification",
   "metadata": {},
   "source": [
    "### 解2. 其實字串是iterable的 (網友解法)"
   ]
  },
  {
   "cell_type": "code",
   "execution_count": 19,
   "id": "medieval-burke",
   "metadata": {},
   "outputs": [],
   "source": [
    "def solution(string):\n",
    "    # Pythonic way :)\n",
    "    return string[::-1]\n",
    "assert solution('ABCDE') == 'EDCBA'    \n",
    "    # For beginners it's good practise \n",
    "    # to know how reverse() or [::-1]\n",
    "    # works on the surface\n",
    "    #for char in range(len(string)-1,-1,-1):\n",
    "        #return string[char]"
   ]
  },
  {
   "cell_type": "markdown",
   "id": "effective-correlation",
   "metadata": {},
   "source": [
    "# 7. Reversed Words"
   ]
  },
  {
   "cell_type": "markdown",
   "id": "generous-capitol",
   "metadata": {},
   "source": [
    "## 將句子裡的單詞由後往前排列"
   ]
  },
  {
   "cell_type": "markdown",
   "id": "revised-steal",
   "metadata": {},
   "source": [
    "### 解1"
   ]
  },
  {
   "cell_type": "code",
   "execution_count": 25,
   "id": "greater-scottish",
   "metadata": {},
   "outputs": [],
   "source": [
    "def reverseWords(str):\n",
    "    return ' '.join(str.split(' ')[::-1])\n",
    "assert reverseWords(\"The greatest victory is that which requires no battle\") == \"battle no requires which that is victory greatest The\""
   ]
  },
  {
   "cell_type": "markdown",
   "id": "likely-rouge",
   "metadata": {},
   "source": [
    "### 解2. 使用reversed函數 (網友解法)"
   ]
  },
  {
   "cell_type": "code",
   "execution_count": 26,
   "id": "amended-application",
   "metadata": {},
   "outputs": [],
   "source": [
    "def reverseWords(str):\n",
    "    return ' '.join(reversed(str.split(' ')))\n",
    "assert reverseWords(\"The greatest victory is that which requires no battle\") == \"battle no requires which that is victory greatest The\""
   ]
  },
  {
   "cell_type": "markdown",
   "id": "exterior-camera",
   "metadata": {},
   "source": [
    "# 8. Alternate case"
   ]
  },
  {
   "cell_type": "markdown",
   "id": "juvenile-occupation",
   "metadata": {},
   "source": [
    "## 大寫變小寫 小寫變大寫 空格不變"
   ]
  },
  {
   "cell_type": "markdown",
   "id": "strange-reynolds",
   "metadata": {},
   "source": [
    "### 解1. 建立dict型態的reference(大寫>小寫)，將key與value調換得到另一個reference(小寫>大寫)，使用get函數索引"
   ]
  },
  {
   "cell_type": "code",
   "execution_count": 27,
   "id": "lesbian-vaccine",
   "metadata": {},
   "outputs": [],
   "source": [
    "def alternateCase(s):\n",
    "    index = {'A':'a','B':'b','C':'c','D':'d','E':'e','F':'f','G':'g','H':'h','I':'i','J':'j',\n",
    "            'K':'k','L':'l','M':'m','N':'n','O':'o','P':'p','Q':'q','R':'r','S':'s','T':'t',\n",
    "            'U':'u','V':'v','W':'w','X':'x','Y':'y','Z':'z',' ':' '}\n",
    "    index2 = {x:y for y, x in index.items()}\n",
    "    string = [*s]\n",
    "    new_string = []\n",
    "    for i in string:\n",
    "        if i in index.keys():\n",
    "            new_string.append(index.get(i))\n",
    "        else:\n",
    "            new_string.append(index2.get(i))\n",
    "    newstring =  ''.join(new_string)\n",
    "    return newstring\n",
    "assert alternateCase(\"Hello World\") ==  \"hELLO wORLD\""
   ]
  },
  {
   "cell_type": "markdown",
   "id": "excited-graphic",
   "metadata": {},
   "source": [
    "### 解2. swapcase函數 (網友解法)"
   ]
  },
  {
   "cell_type": "code",
   "execution_count": 30,
   "id": "every-stake",
   "metadata": {},
   "outputs": [],
   "source": [
    "def alternateCase(s):\n",
    "    return s.swapcase()\n",
    "assert alternateCase(\"Hello World\") ==  \"hELLO wORLD\""
   ]
  },
  {
   "cell_type": "markdown",
   "id": "ignored-breach",
   "metadata": {},
   "source": [
    "### 解3. 空格不算upper 或 lower 並且 經過upper lower函數其值不變 (網友解法)"
   ]
  },
  {
   "cell_type": "code",
   "execution_count": 31,
   "id": "juvenile-example",
   "metadata": {},
   "outputs": [],
   "source": [
    "def alternateCase(s):\n",
    "    res = ''.join([letter.lower() if letter.isupper() else letter.upper() for letter in s])\n",
    "    return res\n",
    "assert alternateCase(\"Hello World\") ==  \"hELLO wORLD\""
   ]
  },
  {
   "cell_type": "markdown",
   "id": "ecological-pavilion",
   "metadata": {},
   "source": [
    "# 9. You only need one - Beginner"
   ]
  },
  {
   "cell_type": "markdown",
   "id": "prospective-confidentiality",
   "metadata": {},
   "source": [
    "## 回傳要找的元素是否在陣列裡面"
   ]
  },
  {
   "cell_type": "markdown",
   "id": "unlike-grant",
   "metadata": {},
   "source": [
    "### 解1. 逐一檢查"
   ]
  },
  {
   "cell_type": "code",
   "execution_count": 33,
   "id": "entitled-telephone",
   "metadata": {},
   "outputs": [],
   "source": [
    "def check(list,elem):\n",
    "    for i in list:\n",
    "        if i==elem:\n",
    "            return True\n",
    "        else:\n",
    "            continue\n",
    "    return False\n",
    "assert check(['1','2','3'],'3') == True"
   ]
  },
  {
   "cell_type": "markdown",
   "id": "violent-publisher",
   "metadata": {},
   "source": [
    "### 解2. 使用 x in y 語法 (網友解法)"
   ]
  },
  {
   "cell_type": "code",
   "execution_count": 34,
   "id": "german-share",
   "metadata": {},
   "outputs": [],
   "source": [
    "def check(list, x):\n",
    "    while True:\n",
    "        if x in list:\n",
    "            return True\n",
    "        else:\n",
    "            return False\n",
    "assert check(['1','2','3'],'3') == True"
   ]
  },
  {
   "cell_type": "markdown",
   "id": "split-veteran",
   "metadata": {},
   "source": [
    "# 10. Find the capitals"
   ]
  },
  {
   "cell_type": "markdown",
   "id": "rapid-joyce",
   "metadata": {},
   "source": [
    "## 尋找大寫字母在哪裡"
   ]
  },
  {
   "cell_type": "markdown",
   "id": "finite-latex",
   "metadata": {},
   "source": [
    "### 解1. enumerate(list) 可以產生可以iterable的物件 每一項包含index以及值"
   ]
  },
  {
   "cell_type": "code",
   "execution_count": 35,
   "id": "israeli-integrity",
   "metadata": {},
   "outputs": [],
   "source": [
    "def capitals(word):\n",
    "    return [n for (n,i) in enumerate(word) if i.isupper()]\n",
    "assert capitals('CodEWaRs') ==  [0,3,4,6] "
   ]
  },
  {
   "cell_type": "markdown",
   "id": "valued-antarctica",
   "metadata": {},
   "source": [
    "### 解2. filter(function, iterable) function:過濾函數 iterable:可迭代對象 (網友解法)"
   ]
  },
  {
   "cell_type": "code",
   "execution_count": 44,
   "id": "guilty-membership",
   "metadata": {},
   "outputs": [],
   "source": [
    "def capitals(word):\n",
    "    return list(filter(lambda x: word[x].isupper(), range(len(word))))\n",
    "assert capitals('CodEWaRs') ==  [0,3,4,6] "
   ]
  },
  {
   "cell_type": "markdown",
   "id": "absent-ending",
   "metadata": {},
   "source": [
    "# 11. Sum arrays"
   ]
  },
  {
   "cell_type": "markdown",
   "id": "exterior-experiment",
   "metadata": {},
   "source": [
    "## 加總陣列的值"
   ]
  },
  {
   "cell_type": "markdown",
   "id": "forty-notebook",
   "metadata": {},
   "source": [
    "### 解1."
   ]
  },
  {
   "cell_type": "code",
   "execution_count": 47,
   "id": "friendly-crash",
   "metadata": {},
   "outputs": [],
   "source": [
    "def sum_array(a):\n",
    "    result = 0\n",
    "    for i in a:\n",
    "        result += i\n",
    "    return result\n",
    "assert sum_array([1, 5.2, 4, 0, -1]) == 9.2"
   ]
  },
  {
   "cell_type": "markdown",
   "id": "fuzzy-share",
   "metadata": {},
   "source": [
    "# 12. Find the smallest integer in the array"
   ]
  },
  {
   "cell_type": "markdown",
   "id": "colonial-issue",
   "metadata": {},
   "source": [
    "## 找出陣列中最小的數字"
   ]
  },
  {
   "cell_type": "markdown",
   "id": "later-summary",
   "metadata": {},
   "source": [
    "### 解1. 一開始設定最小值index為0 此後逐一比對 遇到比自己小的數值就將最小值index改成新的index 繼續往下比對直到結束"
   ]
  },
  {
   "cell_type": "code",
   "execution_count": 48,
   "id": "national-buyer",
   "metadata": {},
   "outputs": [],
   "source": [
    "def find_smallest_int(arr):\n",
    "    min_i = 0\n",
    "    i = 0\n",
    "    while i < len(arr):\n",
    "        if arr[i] < arr[min_i]:\n",
    "            min_i = i\n",
    "        i += 1\n",
    "    return arr[min_i]\n",
    "assert find_smallest_int([78, 56, 232, 12, 11, 43]) == 11"
   ]
  },
  {
   "cell_type": "markdown",
   "id": "handmade-resident",
   "metadata": {},
   "source": [
    "### 解2. 解1的簡潔版 直接按順序拿數值來比大小 (網友解法)"
   ]
  },
  {
   "cell_type": "code",
   "execution_count": 49,
   "id": "analyzed-wagner",
   "metadata": {},
   "outputs": [],
   "source": [
    "##The same way, more elegant\n",
    "def findSmallestInt(arr):\n",
    "    smallest = []\n",
    "    for i in range(0,len(arr)):\n",
    "        if (arr[i] < smallest):\n",
    "            smallest = arr[i]\n",
    "    return smallest\n",
    "assert find_smallest_int([78, 56, 232, 12, 11, 43]) == 11"
   ]
  },
  {
   "cell_type": "markdown",
   "id": "gorgeous-hanging",
   "metadata": {},
   "source": [
    "### 解3. min函數"
   ]
  },
  {
   "cell_type": "code",
   "execution_count": 50,
   "id": "opponent-morning",
   "metadata": {},
   "outputs": [],
   "source": [
    "def findSmallestInt(arr):\n",
    "    return min(arr)\n",
    "assert find_smallest_int([78, 56, 232, 12, 11, 43]) == 11"
   ]
  },
  {
   "cell_type": "markdown",
   "id": "dress-curtis",
   "metadata": {},
   "source": [
    "# 13. Shortest Word"
   ]
  },
  {
   "cell_type": "markdown",
   "id": "experienced-legend",
   "metadata": {},
   "source": [
    "## 回傳長度最短的單詞的長度"
   ]
  },
  {
   "cell_type": "markdown",
   "id": "streaming-bridal",
   "metadata": {},
   "source": [
    "### 解1. 先用split函數切割 計算每個單詞的長度 然後依序比較大小"
   ]
  },
  {
   "cell_type": "code",
   "execution_count": 51,
   "id": "typical-cincinnati",
   "metadata": {},
   "outputs": [],
   "source": [
    "def find_short(s):\n",
    "    s_list = s.split()\n",
    "    len_list = [len(i) for i in s_list]\n",
    "    smallest = len_list[0]\n",
    "    for i in len_list:\n",
    "        if i < smallest:\n",
    "            smallest = i  \n",
    "    return smallest\n",
    "assert find_short(\"I am Peter.\") == 1"
   ]
  },
  {
   "cell_type": "markdown",
   "id": "handled-siemens",
   "metadata": {},
   "source": [
    "### 解2. 解1搭配min函數使用 (網友解法)"
   ]
  },
  {
   "cell_type": "code",
   "execution_count": null,
   "id": "super-collar",
   "metadata": {},
   "outputs": [],
   "source": [
    "def find_short(s):\n",
    "    return min(len(x) for x in s.split())"
   ]
  },
  {
   "cell_type": "markdown",
   "id": "greater-decade",
   "metadata": {},
   "source": [
    "### 解3. min函數: 參數1>陣列;參數2>比較的基準(len) 找到長度最短的字以後利用len函數計算長度 (網友解法)"
   ]
  },
  {
   "cell_type": "code",
   "execution_count": null,
   "id": "matched-fountain",
   "metadata": {},
   "outputs": [],
   "source": [
    "#先以length為標準找出最短的文字 再看有多長\n",
    "def find_short(s):\n",
    "    return len(min(s.split(' '), key=len))"
   ]
  },
  {
   "cell_type": "markdown",
   "id": "clear-washington",
   "metadata": {},
   "source": [
    "### 解4. map函數回傳一個iterator 第一個參數輸入函數 這個函數會作用在第二個參數(iterator)上 (網友解法)"
   ]
  },
  {
   "cell_type": "code",
   "execution_count": null,
   "id": "generous-potter",
   "metadata": {},
   "outputs": [],
   "source": [
    "\n",
    "def find_short(s):\n",
    "    return min(map(len, s.split(' ')))"
   ]
  },
  {
   "cell_type": "markdown",
   "id": "parental-inspiration",
   "metadata": {},
   "source": [
    "# 14. Bit Counting"
   ]
  },
  {
   "cell_type": "markdown",
   "id": "preliminary-monroe",
   "metadata": {},
   "source": [
    "## 將十進位轉二進位 並計算總共有幾個1"
   ]
  },
  {
   "cell_type": "markdown",
   "id": "rental-bankruptcy",
   "metadata": {},
   "source": [
    "### 解1. 將數字減去2的n次方(2的n次方剛好大於或等於數字) 得到的餘數再重複進行上面的步驟 最後計算要重複幾次餘數才會小於等於0"
   ]
  },
  {
   "cell_type": "code",
   "execution_count": 57,
   "id": "welcome-timothy",
   "metadata": {},
   "outputs": [],
   "source": [
    "def countbits(n):\n",
    "    result = 0\n",
    "    remainder = n\n",
    "    while remainder > 0:\n",
    "        value = 1\n",
    "        index = 0\n",
    "        while value <= remainder:\n",
    "            value *= 2\n",
    "            index += 1\n",
    "        remainder -= 2**(index-1)\n",
    "        result += 1\n",
    "    return result\n",
    "countbits(50)\n",
    "assert countBits(50) == 3"
   ]
  },
  {
   "cell_type": "markdown",
   "id": "sharp-position",
   "metadata": {},
   "source": [
    "### 解2. 使用bin函數轉成2進位 計算有幾個1 (網友解法)"
   ]
  },
  {
   "cell_type": "code",
   "execution_count": 56,
   "id": "foreign-directory",
   "metadata": {},
   "outputs": [],
   "source": [
    "def countBits(n):\n",
    "    return bin(n).count(\"1\")\n",
    "assert countBits(50) == 3"
   ]
  },
  {
   "cell_type": "markdown",
   "id": "ethical-library",
   "metadata": {},
   "source": [
    "### 解3. 檢查二進位的末端是否為1 然後向右一個位數 重複這兩個步驟直到結束 (網友解法)"
   ]
  },
  {
   "cell_type": "code",
   "execution_count": 58,
   "id": "amateur-alert",
   "metadata": {},
   "outputs": [],
   "source": [
    "##將所有十進位數字轉換成二進位數字：\n",
    "##第二式代入第一式得 13=6*2+1= (3*2+0)*2+1=3*22+0*2+1 …令為第四式\n",
    "##第三式代入第四式得 13=3*22+0*2+1=(1*2+1)*22+0*2+1=1*23+1*22+0*2+1\n",
    "## =1*23+1*22+0*21+1*20=(1101)2\n",
    "##所以，(13)10=(1101)2，得到十進位的13轉為二進位為1101。\n",
    "def countBits(n):\n",
    "    total = 0\n",
    "    while n > 0:\n",
    "        total += n % 2 ##/2的餘數 (不能整除代表2進位的尾數是1)\n",
    "        n >>= 1 ##把\">>\"左邊的運算數的各二進位全部右移若干位，>> 右邊的數字指定移動的位數 (相當於除以2的商)\n",
    "    return total\n",
    "assert countBits(50) == 3"
   ]
  },
  {
   "cell_type": "markdown",
   "id": "digital-teacher",
   "metadata": {},
   "source": [
    "# 15. Find The Parity Outlier"
   ]
  },
  {
   "cell_type": "markdown",
   "id": "english-badge",
   "metadata": {},
   "source": [
    "## 找出唯一的奇數或是唯一的偶數"
   ]
  },
  {
   "cell_type": "markdown",
   "id": "structural-catch",
   "metadata": {},
   "source": [
    "### 解1. 依序使用除以2的商來判斷 當有大於一個偶數 且 大於一個奇數 而且 偶數的個數不等於奇數的個數時 回傳擁有較少值的那一個"
   ]
  },
  {
   "cell_type": "code",
   "execution_count": 61,
   "id": "passive-conjunction",
   "metadata": {},
   "outputs": [],
   "source": [
    "def find_outlier(integers):\n",
    "    odd = []\n",
    "    even = []\n",
    "    for i in integers:\n",
    "        if i%2 == 0:\n",
    "            even.append(i)\n",
    "        else:\n",
    "            odd.append(i)\n",
    "        if len(odd) > 0 and len(even) > 0 and len(odd) != len(even):\n",
    "            return min([odd,even],key=len)[0]    \n",
    "assert find_outlier([2, 4, 0, 100, 4, 11, 2602, 36]) == 11\n",
    "assert find_outlier([160, 3, 1719, 19, 11, 13, -21]) == 160"
   ]
  },
  {
   "cell_type": "markdown",
   "id": "exotic-liverpool",
   "metadata": {},
   "source": [
    "### 解2. 依序使用除以2的商來判斷 全部結束以後回傳擁有較少值的那一個 (網友解法)"
   ]
  },
  {
   "cell_type": "code",
   "execution_count": 62,
   "id": "sunrise-browse",
   "metadata": {},
   "outputs": [],
   "source": [
    "def find_outlier(int):\n",
    "    odds = [x for x in int if x%2!=0]\n",
    "    evens= [x for x in int if x%2==0]\n",
    "    return odds[0] if len(odds)<len(evens) else evens[0]\n",
    "assert find_outlier([2, 4, 0, 100, 4, 11, 2602, 36]) == 11\n",
    "assert find_outlier([160, 3, 1719, 19, 11, 13, -21]) == 160"
   ]
  },
  {
   "cell_type": "markdown",
   "id": "architectural-military",
   "metadata": {},
   "source": [
    "### 解3.神人解法: 將餘數都放進一個陣列 如果加總是1 (代表有一個奇數) 否則有一個偶數 (網友解法)"
   ]
  },
  {
   "cell_type": "code",
   "execution_count": 63,
   "id": "pleased-statistics",
   "metadata": {},
   "outputs": [],
   "source": [
    "def find_outlier(integers):\n",
    "    parity = [n % 2 for n in integers]\n",
    "    return integers[parity.index(1)] if sum(parity) == 1 else integers[parity.index(0)]\n",
    "assert find_outlier([2, 4, 0, 100, 4, 11, 2602, 36]) == 11\n",
    "assert find_outlier([160, 3, 1719, 19, 11, 13, -21]) == 160"
   ]
  },
  {
   "cell_type": "markdown",
   "id": "fifteen-quick",
   "metadata": {},
   "source": [
    "# 16. Take a Ten Minute Walk"
   ]
  },
  {
   "cell_type": "markdown",
   "id": "treated-owner",
   "metadata": {},
   "source": [
    "## 輸入一串陣列 裡面包含東南西北 計算能否剛好在十步的時候回到原點"
   ]
  },
  {
   "cell_type": "markdown",
   "id": "aggregate-brook",
   "metadata": {},
   "source": [
    "### 解1. 將座標分為垂直與水平座標加總看是否剛好有十步且回到原點 (水平垂直皆等於0)"
   ]
  },
  {
   "cell_type": "code",
   "execution_count": null,
   "id": "defensive-maintenance",
   "metadata": {},
   "outputs": [],
   "source": [
    "def isValidWalk(walk):\n",
    "    if len(walk) != 10:\n",
    "        return False\n",
    "    x = 0\n",
    "    y = 0\n",
    "    for i in in walk:\n",
    "        if i == 'n':\n",
    "            y += 1\n",
    "        elif i == 's':\n",
    "            y -= 1\n",
    "        elif i == 'e':\n",
    "            x += 1\n",
    "        else :\n",
    "            x -= 1\n",
    "    if x == 0 and y == 0:\n",
    "        return True\n",
    "    else\n",
    "        return False"
   ]
  },
  {
   "cell_type": "markdown",
   "id": "renewable-oxford",
   "metadata": {},
   "source": [
    "### 解2. 解1的優化版，使用到了多重賦值 (第5行) 並且將最後的return判斷式簡潔化 (第19行) (網友解法)"
   ]
  },
  {
   "cell_type": "code",
   "execution_count": null,
   "id": "industrial-juvenile",
   "metadata": {},
   "outputs": [],
   "source": [
    "def isValidWalk(walk):\n",
    "    if len(walk) != 10:\n",
    "        return False\n",
    "\n",
    "    x, y = 0, 0\n",
    "\n",
    "    for direction in walk:\n",
    "        if direction == 'n':\n",
    "            y += 1\n",
    "        elif direction == 's':\n",
    "            y -= 1\n",
    "        elif direction == 'e':\n",
    "            x += 1\n",
    "        elif direction == 'w':\n",
    "            x -= 1\n",
    "        else:\n",
    "            return False\n",
    "\n",
    "    return x == 0 and y == 0"
   ]
  },
  {
   "cell_type": "markdown",
   "id": "stupid-perfume",
   "metadata": {},
   "source": [
    "### 解3. check 東=西 南=北 (網友解法)"
   ]
  },
  {
   "cell_type": "code",
   "execution_count": null,
   "id": "supreme-register",
   "metadata": {},
   "outputs": [],
   "source": [
    "def isValidWalk(walk):\n",
    "    return len(walk) == 10 and walk.count('n') == walk.count('s') and walk.count('e') == walk.count('w')"
   ]
  },
  {
   "cell_type": "markdown",
   "id": "unique-dollar",
   "metadata": {},
   "source": [
    "# 17. Tribonacci Sequence"
   ]
  },
  {
   "cell_type": "markdown",
   "id": "usual-college",
   "metadata": {},
   "source": [
    "## 提供費式數列的前三項 回傳數列的前n項"
   ]
  },
  {
   "cell_type": "markdown",
   "id": "mounted-raise",
   "metadata": {},
   "source": [
    "### 解1. 倒著寫 + 遞迴"
   ]
  },
  {
   "cell_type": "code",
   "execution_count": 68,
   "id": "removable-charm",
   "metadata": {},
   "outputs": [],
   "source": [
    "def tribonacci(signature,n):\n",
    "    first = signature[0]\n",
    "    second = signature[1]\n",
    "    third = signature[2]\n",
    "    def tribonacci2(first,second,third,n):\n",
    "        if n == 1:\n",
    "            return first\n",
    "        elif n==2:\n",
    "            return second\n",
    "        elif n ==3:\n",
    "            return third\n",
    "        else:\n",
    "            return tribonacci2(first = first,second = second,third = third,n=n-3) + tribonacci2(first = first,second = second,third = third,n=n-2) + tribonacci2(first = first,second = second,third = third,n=n-1)\n",
    "    result = []\n",
    "    for i in range(1, n+1):\n",
    "        result.append(tribonacci2(first = 1, second = 1,third = 1,n=i))\n",
    "    return result\n",
    "assert tribonacci([1,1,1],10) == [1, 1, 1, 3, 5, 9, 17, 31, 57, 105]"
   ]
  },
  {
   "cell_type": "markdown",
   "id": "external-spine",
   "metadata": {},
   "source": [
    "### 解2. 正著寫 + 遞迴"
   ]
  },
  {
   "cell_type": "code",
   "execution_count": 70,
   "id": "neither-breast",
   "metadata": {},
   "outputs": [],
   "source": [
    "def tribonacci(signature, n):\n",
    "    new_ele = signature[0] + signature[1] + signature[2]\n",
    "    signature.append(new_ele)\n",
    "    if n <= 4:\n",
    "        return signature[:n]\n",
    "    else:\n",
    "        n -= 4\n",
    "        def tribonacci_2(second,third,new_ele,signature,n):\n",
    "            first = second\n",
    "            second = third\n",
    "            third = new_ele\n",
    "            new_ele = first + second + third\n",
    "            signature.append(new_ele)\n",
    "            n -= 1\n",
    "            if n >0:\n",
    "                answer = tribonacci_2(second,third,new_ele,signature,n)\n",
    "                return answer\n",
    "            else:\n",
    "                return signature\n",
    "        if n > 0:\n",
    "            result = tribonacci_2(signature[1],signature[2],signature[3],signature,n)\n",
    "            return result\n",
    "assert tribonacci([1,1,1],10) == [1, 1, 1, 3, 5, 9, 17, 31, 57, 105]"
   ]
  },
  {
   "cell_type": "markdown",
   "id": "listed-affiliate",
   "metadata": {},
   "source": [
    "### 解3. 定義解 (網友解法)"
   ]
  },
  {
   "cell_type": "code",
   "execution_count": 71,
   "id": "genetic-receipt",
   "metadata": {},
   "outputs": [],
   "source": [
    "def tribonacci(signature, n):\n",
    "    res = signature[:n]\n",
    "    for i in range(n - 3): \n",
    "        res.append(sum(res[-3:]))\n",
    "    return res\n",
    "assert tribonacci([1,1,1], 10) == [1, 1, 1, 3, 5, 9, 17, 31, 57, 105]"
   ]
  },
  {
   "cell_type": "markdown",
   "id": "deadly-amazon",
   "metadata": {},
   "source": [
    "# 18. A Man and his Umbrellas"
   ]
  },
  {
   "cell_type": "markdown",
   "id": "molecular-gazette",
   "metadata": {},
   "source": [
    "## 輸入連續的半日氣象，選項有\"clear\", \"sunny\", \"cloudy\", \"rainy\", \"windy\"或是\"thunderstorms\"。假設早上的半日氣象顯示下雨，會買一把傘帶出門，帶到公司。下班前，看到下午的半日氣象是下雨，就會把早上帶到公司的傘稱回家。回傳最少需要買幾把傘 (假設預報下雨才會帶傘 而且一開始沒有任何傘可以使用)"
   ]
  },
  {
   "cell_type": "markdown",
   "id": "distinguished-simon",
   "metadata": {},
   "source": [
    "## 解1. 設兩個變數 (公司有幾把傘 家裡有幾把傘) 如果下雨 出發地有傘 出發地減一把傘 抵達處多一把傘 ; 如果下雨 出發地沒傘 抵達處多一把傘 最後加總兩個地方傘的數量 (試著使用javascript的語法) "
   ]
  },
  {
   "cell_type": "code",
   "execution_count": 6,
   "id": "backed-correlation",
   "metadata": {},
   "outputs": [
    {
     "data": {
      "text/plain": [
       "[1, 1, 1, 3, 5, 9, 17, 31, 57, 105]"
      ]
     },
     "execution_count": 6,
     "metadata": {},
     "output_type": "execute_result"
    }
   ],
   "source": [
    "function minUmbrellas(weather){\n",
    "  var home = 0\n",
    "  var work = 0\n",
    "  for (i=0;i<weather.length;i++){\n",
    "    if (weather[i] == \"rainy\" | weather[i] ==\"thunderstorms\"){\n",
    "      if (i%2==1){\n",
    "        if (work == 0){\n",
    "          home = home+1\n",
    "        } else {\n",
    "          home = home+1\n",
    "          work = work-1\n",
    "        }\n",
    "      } else {\n",
    "        if (home==0){\n",
    "          work = work+1\n",
    "        } else {\n",
    "          work = work+1\n",
    "          home = home-1\n",
    "        }\n",
    "      }\n",
    "    }\n",
    "  } \n",
    "  return home+work\n",
    "}\n"
   ]
  },
  {
   "cell_type": "markdown",
   "id": "noble-throw",
   "metadata": {},
   "source": [
    "## 解2. 解1語法的優化版本 (網友提供的javascript語法)"
   ]
  },
  {
   "cell_type": "code",
   "execution_count": null,
   "id": "everyday-calcium",
   "metadata": {},
   "outputs": [],
   "source": [
    "function minUmbrellas(weather) {\n",
    "  let home = 0;\n",
    "  let office = 0;\n",
    "  \n",
    "  for (let i = 0; i < weather.length; i++) {\n",
    "    if ([\"thunderstorms\", \"rainy\"].includes(weather[i])) {\n",
    "        if (i%2) {\n",
    "          if (home) home--; #if home != 0\n",
    "          office++;\n",
    "        } else {\n",
    "          if (office) office--;\n",
    "          home++;\n",
    "        }\n",
    "    }\n",
    "  }\n",
    "  return home + office;\n",
    "}"
   ]
  },
  {
   "cell_type": "markdown",
   "id": "direct-footwear",
   "metadata": {},
   "source": [
    "# 19. Check if two words are isomorphic to each other"
   ]
  },
  {
   "cell_type": "markdown",
   "id": "alternative-printer",
   "metadata": {},
   "source": [
    "## 確定兩個單詞是一對一函數"
   ]
  },
  {
   "cell_type": "markdown",
   "id": "cultural-inspection",
   "metadata": {},
   "source": [
    "### 解1. 假設 b = f(a) 先排除一對多函數的可能性 但可能存在多對一函數 所以這次假設 a = f(b) 原本的多對一會變成一對多 再排除一對多函數的可能性 即剩下一對一函數的可能性"
   ]
  },
  {
   "cell_type": "code",
   "execution_count": 75,
   "id": "grand-malaysia",
   "metadata": {},
   "outputs": [],
   "source": [
    "#從兩個方向刪除一對多函數\n",
    "def isomorph(a, b):\n",
    "    ref = dict()\n",
    "    ref2 = dict()\n",
    "    for i in range(len(a)):\n",
    "        if (a[i] in ref.keys()):\n",
    "            if (ref.get(a[i]) != b[i]):\n",
    "                return False\n",
    "            else:\n",
    "                ref[a[i]] = b[i]\n",
    "    for i in range(len(b)):\n",
    "        if (b[i] in ref2.keys()):\n",
    "            if (ref2.get(b[i]) != a[i]):\n",
    "                return False\n",
    "            else:\n",
    "                ref[b[i]] = a[i]\n",
    "    return True\n",
    "assert isomorph('CBAABC','DEFFED') == True"
   ]
  },
  {
   "cell_type": "markdown",
   "id": "adjusted-lawrence",
   "metadata": {},
   "source": [
    "### 解2. 神人解法: 利用index函數幫文字編號(如此一來每一個文字有一個自己的獨立編號) 再確定a的編號排列與b的編號排列一致 (網友解法)"
   ]
  },
  {
   "cell_type": "code",
   "execution_count": 74,
   "id": "verified-camera",
   "metadata": {},
   "outputs": [],
   "source": [
    "###### clever! 利用index函數幫文字編號(每一個文字有一個自己的獨立編號) \n",
    "def isomorph(a, b):\n",
    "    return [a.index(x) for x in a] == [b.index(y) for y in b]\n",
    "assert isomorph('CBAABC','DEFFED') == True"
   ]
  }
 ],
 "metadata": {
  "kernelspec": {
   "display_name": "Python 3",
   "language": "python",
   "name": "python3"
  },
  "language_info": {
   "codemirror_mode": {
    "name": "ipython",
    "version": 3
   },
   "file_extension": ".py",
   "mimetype": "text/x-python",
   "name": "python",
   "nbconvert_exporter": "python",
   "pygments_lexer": "ipython3",
   "version": "3.8.5"
  }
 },
 "nbformat": 4,
 "nbformat_minor": 5
}
