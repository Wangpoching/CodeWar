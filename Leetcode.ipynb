{
 "cells": [
  {
   "cell_type": "markdown",
   "id": "another-exhibit",
   "metadata": {},
   "source": [
    "# LeetCode"
   ]
  },
  {
   "cell_type": "markdown",
   "id": "numerical-documentation",
   "metadata": {},
   "source": [
    "## 120.Triangle "
   ]
  },
  {
   "cell_type": "markdown",
   "id": "selected-mixture",
   "metadata": {},
   "source": [
    "### Given a triangle array, return the minimum path sum from top to bottom. <br> For each step, you may move to an adjacent number of the row below. More formally, if you are on index i on the current row, you may move to either index i or index i + 1 on the next row.\n",
    "### Ex. \n",
    "###    2\n",
    "###   3 4\n",
    "###  6 5 7\n",
    "### 4 1 8 3\n",
    "### The minimum path sum from top to bottom is 2 + 3 + 5 + 1 = 11 (underlined above)."
   ]
  },
  {
   "cell_type": "markdown",
   "id": "golden-belle",
   "metadata": {},
   "source": [
    "### 解. 倒著想 以上面為例 倒數第二步可能走到6, 5, 7，在這三種條件下最後一步分別會選擇走1, 1, 3所以可以將新的數列寫為 [2] [3,4] [6+1,5+1,7+3]，重複這個步驟直到最後一層"
   ]
  },
  {
   "cell_type": "code",
   "execution_count": 5,
   "id": "anonymous-headquarters",
   "metadata": {},
   "outputs": [],
   "source": [
    "def minimumTotal(triangle):\n",
    "    k = len(triangle)-2\n",
    "    dp = triangle[k+1]\n",
    "    while k >= 0:\n",
    "        for i in range(k+1):\n",
    "            dp[i] = min(dp[i],dp[i+1])+triangle[k][i]\n",
    "        k -= 1\n",
    "    return dp[0]\n",
    "assert minimumTotal([[2],[3,4],[6,5,7],[4,1,8,3]]) == 11          "
   ]
  },
  {
   "cell_type": "markdown",
   "id": "secondary-final",
   "metadata": {},
   "source": [
    "## 136. Single Number"
   ]
  },
  {
   "cell_type": "markdown",
   "id": "embedded-queue",
   "metadata": {},
   "source": [
    "### 陣列裡的元素都出現兩次 找出只出現一次的那一個"
   ]
  },
  {
   "cell_type": "markdown",
   "id": "complicated-thermal",
   "metadata": {},
   "source": [
    "### 解. a ^ b   若兩者相同時才為否(0)，其餘則都是真(1) ，並且是按照二進位制去比較 ， 因為最後兩兩出現的數字都會互相消去而變為 0 ， 如此一來答案會只剩下唯一的數字"
   ]
  },
  {
   "cell_type": "code",
   "execution_count": 21,
   "id": "swedish-gentleman",
   "metadata": {},
   "outputs": [],
   "source": [
    "def singleNumber(nums):\n",
    "    result = nums[0]\n",
    "    for i in range(1,len(nums)):\n",
    "        result ^= nums[i]\n",
    "    return result\n",
    "assert singleNumber([4,10,2,10,2,4,8,6,8]) == 6"
   ]
  },
  {
   "cell_type": "markdown",
   "id": "removed-premiere",
   "metadata": {},
   "source": [
    "## 1512. Number of good pairs"
   ]
  },
  {
   "cell_type": "markdown",
   "id": "otherwise-devil",
   "metadata": {},
   "source": [
    "### Given an array of integers nums. <br> A pair (i,j) is called good if nums[i] == nums[j] and i < j. <br> Return the number of good pairs."
   ]
  },
  {
   "cell_type": "markdown",
   "id": "unable-sleeping",
   "metadata": {},
   "source": [
    "### 解."
   ]
  },
  {
   "cell_type": "code",
   "execution_count": 24,
   "id": "specialized-member",
   "metadata": {},
   "outputs": [],
   "source": [
    "def numIdenticalPairs(nums):\n",
    "    pairs = []\n",
    "    for i in range(len(nums)):\n",
    "        for j in range(i+1,len(nums)):\n",
    "            if nums[i] == nums[j]:\n",
    "                pairs.append((i,j))\n",
    "    return len(pairs)"
   ]
  },
  {
   "cell_type": "markdown",
   "id": "cheap-player",
   "metadata": {},
   "source": [
    "## 1672. Richest Customer Wealth"
   ]
  },
  {
   "cell_type": "markdown",
   "id": "falling-newark",
   "metadata": {},
   "source": [
    "### 給定一個M*N的陣列 其中第一個維度代表一個人 第一個維度則是那個人在每個銀行的存款 回傳最有錢的人存在銀行的錢總共有多少?"
   ]
  },
  {
   "cell_type": "markdown",
   "id": "choice-favor",
   "metadata": {},
   "source": [
    "### 解."
   ]
  },
  {
   "cell_type": "code",
   "execution_count": 27,
   "id": "plain-leave",
   "metadata": {},
   "outputs": [],
   "source": [
    "def maximumWealth(accounts):\n",
    "    result = []\n",
    "    for i in accounts:\n",
    "        sum_ = sum(i)\n",
    "        result.append(sum_)\n",
    "    return max(result)\n",
    "assert maximumWealth([[1,5],[7,3],[3,5]]) == 10"
   ]
  },
  {
   "cell_type": "markdown",
   "id": "marked-macedonia",
   "metadata": {},
   "source": [
    "## 1313. Decompress Run-Length Encoded List"
   ]
  },
  {
   "cell_type": "markdown",
   "id": "excessive-diary",
   "metadata": {},
   "source": [
    "### 為了以更少的空間儲存一串數字，有一個方法是以，頻率+數值的方式儲存數列，假設有一串數字 [2,4,4,4]，可以壓縮寫成 [1,2,3,4]。給訂被壓縮過後的數列，回傳原始數列。"
   ]
  },
  {
   "cell_type": "markdown",
   "id": "adolescent-switch",
   "metadata": {},
   "source": [
    "### 解. 利用extend方法可以在list後添加list"
   ]
  },
  {
   "cell_type": "code",
   "execution_count": 28,
   "id": "major-broadcasting",
   "metadata": {},
   "outputs": [],
   "source": [
    "def decompressRLElist(nums):\n",
    "    result = []\n",
    "    for i in range(0,len(nums),2):\n",
    "        result.extend([nums[i+1]]*nums[i])\n",
    "    return result\n",
    "assert decompressRLElist([1,2,3,4]) == [2,4,4,4]"
   ]
  },
  {
   "cell_type": "markdown",
   "id": "concrete-introduction",
   "metadata": {},
   "source": [
    "## 1480.Running Sum of 1d Array"
   ]
  },
  {
   "cell_type": "markdown",
   "id": "welsh-microphone",
   "metadata": {},
   "source": [
    "### 回傳累積值"
   ]
  },
  {
   "cell_type": "markdown",
   "id": "neither-paste",
   "metadata": {},
   "source": [
    "### 解."
   ]
  },
  {
   "cell_type": "code",
   "execution_count": 31,
   "id": "successful-ferry",
   "metadata": {},
   "outputs": [],
   "source": [
    "def runningSum(nums):\n",
    "    result = []\n",
    "    acc_sum = 0 \n",
    "    for n in nums:\n",
    "        acc_sum = acc_sum+n\n",
    "        result.append(acc_sum)\n",
    "    return result\n",
    "assert runningSum([1,2,3,4]) == [1,3,6,10]          "
   ]
  }
 ],
 "metadata": {
  "kernelspec": {
   "display_name": "Python 3",
   "language": "python",
   "name": "python3"
  },
  "language_info": {
   "codemirror_mode": {
    "name": "ipython",
    "version": 3
   },
   "file_extension": ".py",
   "mimetype": "text/x-python",
   "name": "python",
   "nbconvert_exporter": "python",
   "pygments_lexer": "ipython3",
   "version": "3.8.5"
  }
 },
 "nbformat": 4,
 "nbformat_minor": 5
}
